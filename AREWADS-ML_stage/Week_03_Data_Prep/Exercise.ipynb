{
 "cells": [
  {
   "cell_type": "markdown",
   "id": "91a5e023",
   "metadata": {},
   "source": [
    "Assignment: Evaluating Data from a Form\n",
    "A client has been testing a small form to gather some basic data about their client-base. They have brought their findings to you to validate the data they have gathered. You can open the index.html page in a browser to take a look at the form.\n",
    "\n",
    "You have been provided a dataset of csv records that contain entries from the form as well as some basic visualizations.The client pointed out that some of the visualizations look incorrect but they're unsure about how to resolve them. You can explore it in the assignment notebook.\n",
    "\n",
    "Instructions\n",
    "Use the techniques in this lesson to make recommendations about the form so it captures accurate and consistent information."
   ]
  },
  {
   "cell_type": "code",
   "execution_count": null,
   "id": "8be17115",
   "metadata": {},
   "outputs": [],
   "source": []
  }
 ],
 "metadata": {
  "kernelspec": {
   "display_name": "base",
   "language": "python",
   "name": "python3"
  },
  "language_info": {
   "codemirror_mode": {
    "name": "ipython",
    "version": 3
   },
   "file_extension": ".py",
   "mimetype": "text/x-python",
   "name": "python",
   "nbconvert_exporter": "python",
   "pygments_lexer": "ipython3",
   "version": "3.12.3"
  }
 },
 "nbformat": 4,
 "nbformat_minor": 5
}
