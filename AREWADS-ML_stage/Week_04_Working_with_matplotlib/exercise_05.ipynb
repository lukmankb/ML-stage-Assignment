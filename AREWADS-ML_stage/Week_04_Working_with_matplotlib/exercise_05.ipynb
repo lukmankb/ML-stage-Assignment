{
 "cells": [
  {
   "cell_type": "markdown",
   "id": "858ff18f",
   "metadata": {},
   "source": [
    "Using the code sample in this project to create a social network, mock up data of your own social interactions. You could map your usage of social media or make a diagram of your family members. Create an interesting web app that shows a unique visualization of a social network.\n",
    "\n",
    "Rubric\n",
    "Exemplary\tAdequate\tNeeds Improvement\n",
    "A GitHub repo is presented with code that runs properly (try deploying it as a static web app) and has an annotated README explaining the project\tThe repo does not run properly or is not documented well\tThe repo does not run properly and is not documented well"
   ]
  }
 ],
 "metadata": {
  "language_info": {
   "name": "python"
  }
 },
 "nbformat": 4,
 "nbformat_minor": 5
}
